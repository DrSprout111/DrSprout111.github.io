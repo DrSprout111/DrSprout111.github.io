{
 "cells": [
  {
   "cell_type": "markdown",
   "metadata": {},
   "source": [
    "# 머신러닝 연습용 데이터 가져오기 "
   ]
  },
  {
   "cell_type": "markdown",
   "metadata": {},
   "source": [
    "머신러닝을 공부 할 때, 유용한 데이터셋 저장소는 아래와 같다."
   ]
  },
  {
   "cell_type": "markdown",
   "metadata": {},
   "source": [
    "| <center>저장소</center> | <center>url</center> |\n",
    "|---|---|\n",
    "|[UC Irvine 아카이브](http://archive.ics.uci.edu/ml/) | http://archive.ics.uci.edu/ml/ |\n",
    "|[Kaggle 데이터셋](http://www.kaggle.com/datasets) | http://www.kaggle.com/datasets |\n",
    "|[Amazon AWS 데이터셋](http://aws.amazon.com/ko/datasets) | http://aws.amazon.com/ko/datasets |\n",
    "|[Wikipedia 데이터셋](https://en.wikipedia.org/wiki/List_of_datasets_for_machine-learning_research) | https://en.wikipedia.org/wiki/List_of_datasets_for_machine-learning_research |"
   ]
  },
  {
   "cell_type": "markdown",
   "metadata": {},
   "source": [
    "## UC Irvine 아카이브\n",
    "\n",
    "<br>\n",
    "\n",
    "돈 많은 아시안이 많이 사는 곳으로 유명한 얼바인. \n",
    "\n",
    "캠퍼스 도시 얼바인에서는 데이터셋 무료나눔서비스 중이다.\n",
    "\n",
    "url을 타고 들어가면 아래와 같은 사이트를 들어 갈 수 있다.\n",
    "\n",
    "<br>\n",
    "\n",
    "![uci 아카이브 1](./uci_capture_1.png)\n",
    "\n",
    "<br>\n",
    "\n",
    "UCI 마스코트인 개미핥기가 반겨준다.\n",
    "\n",
    "빨간 표시 한 `view all data sets`를 클릭해 들어가면 데이터셋들이 잘 정리되어 있다.\n",
    "\n",
    "<br>\n",
    "\n",
    "![uci 아카이브 2](./uci_capture_2.png)\n",
    "\n",
    "<br>\n",
    "\n",
    "일단 맨 위의 데이터셋을 들어가보면 이렇저런 정보들이 있는데, 시간 날 때 잃어보고 `Data Folder`로 직행!\n",
    "\n",
    "나중에 보니 abalone은 전복이란다. 전복 종 분류 문제인듯?\n",
    "\n",
    "<br>\n",
    "\n",
    "![uci 아카이브 3](./uci_capture_3.png)\n",
    "\n",
    "<br>\n",
    "\n",
    "`.data` 파일에는 데이터셋이 들어 있고 `.names` 파일에는 feature명이나 데이터셋 설명이 들어 있다. \n",
    "\n",
    "<br>\n",
    "\n",
    "![uci 아카이브 4](./uci_capture_4.png)\n",
    "\n",
    "<br>\n",
    "\n",
    "`.data`를 죄클릭해서 바로 다운받아도 되고, 우클릭해서 `링크 주소 복사`를 해도 된다.\n",
    "\n",
    "다운 받은 디렉토리 또는 복사한 링크 주소를 아래 url에다 넣으면 된다."
   ]
  },
  {
   "cell_type": "code",
   "execution_count": 19,
   "metadata": {},
   "outputs": [
    {
     "name": "stdout",
     "output_type": "stream",
     "text": [
      "|    | M   |   0.455 |   0.365 |   0.095 |   0.514 |   0.2245 |   0.101 |   0.15 |   15 |\n",
      "|---:|:----|--------:|--------:|--------:|--------:|---------:|--------:|-------:|-----:|\n",
      "|  0 | M   |   0.35  |   0.265 |   0.09  |  0.2255 |   0.0995 |  0.0485 |  0.07  |    7 |\n",
      "|  1 | F   |   0.53  |   0.42  |   0.135 |  0.677  |   0.2565 |  0.1415 |  0.21  |    9 |\n",
      "|  2 | M   |   0.44  |   0.365 |   0.125 |  0.516  |   0.2155 |  0.114  |  0.155 |   10 |\n",
      "|  3 | I   |   0.33  |   0.255 |   0.08  |  0.205  |   0.0895 |  0.0395 |  0.055 |    7 |\n",
      "|  4 | I   |   0.425 |   0.3   |   0.095 |  0.3515 |   0.141  |  0.0775 |  0.12  |    8 |\n"
     ]
    }
   ],
   "source": [
    "import pandas as pd\n",
    "\n",
    "url=\"http://archive.ics.uci.edu/ml/machine-learning-databases/abalone/abalone.data\"\n",
    "df=pd.read_csv(url)\n",
    "print(df.head().to_markdown())"
   ]
  },
  {
   "cell_type": "markdown",
   "metadata": {},
   "source": [
    "column명이 없고 첫 행이 column으로 올라가 있다. `read_csv`의 인수를 살짝 조절해주면 된다."
   ]
  },
  {
   "cell_type": "code",
   "execution_count": 20,
   "metadata": {},
   "outputs": [
    {
     "name": "stdout",
     "output_type": "stream",
     "text": [
      "|    | 0   |     1 |     2 |     3 |      4 |      5 |      6 |     7 |   8 |\n",
      "|---:|:----|------:|------:|------:|-------:|-------:|-------:|------:|----:|\n",
      "|  0 | M   | 0.455 | 0.365 | 0.095 | 0.514  | 0.2245 | 0.101  | 0.15  |  15 |\n",
      "|  1 | M   | 0.35  | 0.265 | 0.09  | 0.2255 | 0.0995 | 0.0485 | 0.07  |   7 |\n",
      "|  2 | F   | 0.53  | 0.42  | 0.135 | 0.677  | 0.2565 | 0.1415 | 0.21  |   9 |\n",
      "|  3 | M   | 0.44  | 0.365 | 0.125 | 0.516  | 0.2155 | 0.114  | 0.155 |  10 |\n",
      "|  4 | I   | 0.33  | 0.255 | 0.08  | 0.205  | 0.0895 | 0.0395 | 0.055 |   7 |\n"
     ]
    }
   ],
   "source": [
    "df=pd.read_csv(url, header=None)\n",
    "print(df.head().to_markdown())"
   ]
  },
  {
   "cell_type": "markdown",
   "metadata": {},
   "source": [
    "근데 이제는 feature명이 숫자다. `.name` 파일에서 feature명을 확인해보자."
   ]
  },
  {
   "cell_type": "markdown",
   "metadata": {},
   "source": [
    "| Name | Data Type | Meas. | Description\n",
    "|---|---|---|---|\n",
    "Sex | nominal |  | M, F, and I (infant)\n",
    "Length | continuous | mm | Longest shell measurement\n",
    "Diameter | continuous | mm | perpendicular to length\n",
    "Height | continuous | mm | with meat in shell\n",
    "Whole weight | continuous | grams | whole abalone\n",
    "Shucked weight | continuous | grams | weight of meat\n",
    "Viscera weight | continuous | grams | gut weight (after bleeding)\n",
    "Shell weight | continuous | grams | after being dried\n",
    "Rings | integer |  | +1.5 gives the age in years"
   ]
  },
  {
   "cell_type": "markdown",
   "metadata": {},
   "source": [
    "전복 길이, 반지름, 높이, 몸무게 등등...\n",
    "\n",
    "내가 맨날 보는 데이터는 축약형 줄임말 투성이라 정신없는데 이 데이터는 아주 친숙해서 좋다.\n",
    "\n",
    "feature도 9개 밖에 없다."
   ]
  },
  {
   "cell_type": "code",
   "execution_count": 21,
   "metadata": {},
   "outputs": [
    {
     "name": "stdout",
     "output_type": "stream",
     "text": [
      "|    | Sex   |   Length |   Diameter |   Height |   Whole weight |   Shucked weight |   Viscera weight |   Shell weight |   Rings |\n",
      "|---:|:------|---------:|-----------:|---------:|---------------:|-----------------:|-----------------:|---------------:|--------:|\n",
      "|  0 | M     |    0.455 |      0.365 |    0.095 |         0.514  |           0.2245 |           0.101  |          0.15  |      15 |\n",
      "|  1 | M     |    0.35  |      0.265 |    0.09  |         0.2255 |           0.0995 |           0.0485 |          0.07  |       7 |\n",
      "|  2 | F     |    0.53  |      0.42  |    0.135 |         0.677  |           0.2565 |           0.1415 |          0.21  |       9 |\n",
      "|  3 | M     |    0.44  |      0.365 |    0.125 |         0.516  |           0.2155 |           0.114  |          0.155 |      10 |\n",
      "|  4 | I     |    0.33  |      0.255 |    0.08  |         0.205  |           0.0895 |           0.0395 |          0.055 |       7 |\n"
     ]
    }
   ],
   "source": [
    "names=['Sex','Length','Diameter','Height','Whole weight' ,'Shucked weight','Viscera weight','Shell weight','Rings']\n",
    "df=pd.read_csv(url, header=None, names=names)\n",
    "print(df.head().to_markdown())"
   ]
  },
  {
   "cell_type": "markdown",
   "metadata": {},
   "source": [
    "## Kaggle 데이터셋"
   ]
  },
  {
   "cell_type": "markdown",
   "metadata": {},
   "source": [
    "캐글은 회원가입 안하면 데이터를 안준다. 회원가입을 하고 네비게이션 바에서 `Data`를 클릭해준다. \n",
    "\n",
    "<br>\n",
    "\n",
    "![kaggle 데이터셋 1](./kaggle_capture_1.png)\n",
    "\n",
    "<br>\n",
    "\n",
    "데이터셋들이 있는데 지금은 더러운 데이터를 클렌징 하는걸 해 볼 예정이라 US Mass Shooting 데이터셋을 검색해서 다운로드 받았다.\n",
    "\n",
    "<br>\n",
    "\n",
    "![kaggle 데이터셋 2](./kaggle_capture_2.png)\n",
    "\n",
    "<br>\n",
    "\n",
    "`.csv`파일을 받을 수 있는데 받은 디렉토리를 잘 복사해서 넣으면 된다. \n",
    "\n",
    "여기서, `encoding`은 `utf-8`과 `cp949`가 있는데, 이 데이터는 `utf-8`에서 에러가 떠서 `encoding`을 바꿨다. \n",
    "\n",
    "`utf-8`은 유니코드를 위한 가변 길이 문자 인코딩 방식 중 하나라고 하는데 난 컴공 아니라 그런건 모르겠고 내가 알 필요 없는거같은데 일단 뇌에 넣어놓는다. "
   ]
  },
  {
   "cell_type": "code",
   "execution_count": 22,
   "metadata": {
    "scrolled": false
   },
   "outputs": [
    {
     "name": "stdout",
     "output_type": "stream",
     "text": [
      "|    |   S# | Title                                | Location           | Date      | Summary                                                                                                                                                                                                                                                                                                                                                                                                 |   Fatalities |   Injured |   Total victims | Mental Health Issues   | Race   | Gender   |   Latitude |   Longitude |\n",
      "|---:|-----:|:-------------------------------------|:-------------------|:----------|:--------------------------------------------------------------------------------------------------------------------------------------------------------------------------------------------------------------------------------------------------------------------------------------------------------------------------------------------------------------------------------------------------------|-------------:|----------:|----------------:|:-----------------------|:-------|:---------|-----------:|------------:|\n",
      "|  0 |    1 | Las Vegas Strip mass shooting        | Las Vegas, NV      | 10/1/2017 | nan                                                                                                                                                                                                                                                                                                                                                                                                     |           58 |       527 |             585 | Unclear                | White  | M        |    36.1813 |    -115.134 |\n",
      "|  1 |    2 | San Francisco UPS shooting           | San Francisco, CA  | 6/14/2017 | Jimmy Lam, 38, fatally shot three coworkers and wounded two others inside a UPS facility in San Francisco. Lam killed himself as law enforcement officers responded to the scene.                                                                                                                                                                                                                       |            3 |         2 |               5 | Yes                    | Asian  | M        |   nan      |     nan     |\n",
      "|  2 |    3 | Pennsylvania supermarket shooting    | Tunkhannock, PA    | 6/7/2017  | Randy Stair, a 24-year-old worker at Weis grocery fatally shot three of his fellow employees. He reportedly fired 59 rounds with a pair of shotguns before turning the gun on himself as another co-worker fled the scene for help and law enforcement responded.                                                                                                                                       |            3 |         0 |               3 | Unclear                | White  | M        |   nan      |     nan     |\n",
      "|  3 |    4 | Florida awning manufacturer shooting | Orlando, Florida   | 6/5/2017  | John Robert Neumann, Jr., 45, a former employee of manufacturer Fiamma Inc. fatally shot five workers at the company, and then killed himself on the scene. He'd been fired from the company in April. The attack took place a week before the one-year anniversary of the Orlando nightclub massacre.                                                                                                  |            5 |         0 |               5 | Unclear                | nan    | M        |   nan      |     nan     |\n",
      "|  4 |    5 | Rural Ohio nursing home shooting     | Kirkersville, Ohio | 5/12/2017 | Thomas Hartless, 43, shot and killed a former girlfriend and another employee of a nursing home, and then fatally shot the Kirkersville police chief responding to the scene. Hartless' former girlfriend had recently obtained a court protection order against Hartless. Investigators later found more than 60 firearms in the home of Hartless, who was also found dead at the scene of the attack. |            3 |         0 |               3 | Yes                    | White  | M        |   nan      |     nan     |\n"
     ]
    }
   ],
   "source": [
    "url=\"./Mass Shootings Dataset Ver 2.csv\"\n",
    "df=pd.read_csv(url, encoding='cp949')\n",
    "print(df.head().to_markdown())"
   ]
  },
  {
   "cell_type": "markdown",
   "metadata": {},
   "source": [
    "|    |   S# | Title                                | Location           | Date      | Summary                                                                                                                                                                                                                                                                                                                                                                                                 |   Fatalities |   Injured |   Total victims | Mental Health Issues   | Race   | Gender   |   Latitude |   Longitude |\n",
    "|---:|-----:|:-------------------------------------|:-------------------|:----------|:--------------------------------------------------------------------------------------------------------------------------------------------------------------------------------------------------------------------------------------------------------------------------------------------------------------------------------------------------------------------------------------------------------|-------------:|----------:|----------------:|:-----------------------|:-------|:---------|-----------:|------------:|\n",
    "|  0 |    1 | Las Vegas Strip mass shooting        | Las Vegas, NV      | 10/1/2017 | nan                                                                                                                                                                                                                                                                                                                                                                                                     |           58 |       527 |             585 | Unclear                | White  | M        |    36.1813 |    -115.134 |\n",
    "|  1 |    2 | San Francisco UPS shooting           | San Francisco, CA  | 6/14/2017 | Jimmy Lam, 38, fatally shot three coworkers and wounded two others inside a UPS facility in San Francisco. Lam killed himself as law enforcement officers responded to the scene.                                                                                                                                                                                                                       |            3 |         2 |               5 | Yes                    | Asian  | M        |   nan      |     nan     |\n",
    "|  2 |    3 | Pennsylvania supermarket shooting    | Tunkhannock, PA    | 6/7/2017  | Randy Stair, a 24-year-old worker at Weis grocery fatally shot three of his fellow employees. He reportedly fired 59 rounds with a pair of shotguns before turning the gun on himself as another co-worker fled the scene for help and law enforcement responded.                                                                                                                                       |            3 |         0 |               3 | Unclear                | White  | M        |   nan      |     nan     |\n",
    "|  3 |    4 | Florida awning manufacturer shooting | Orlando, Florida   | 6/5/2017  | John Robert Neumann, Jr., 45, a former employee of manufacturer Fiamma Inc. fatally shot five workers at the company, and then killed himself on the scene. He'd been fired from the company in April. The attack took place a week before the one-year anniversary of the Orlando nightclub massacre.                                                                                                  |            5 |         0 |               5 | Unclear                | nan    | M        |   nan      |     nan     |\n",
    "|  4 |    5 | Rural Ohio nursing home shooting     | Kirkersville, Ohio | 5/12/2017 | Thomas Hartless, 43, shot and killed a former girlfriend and another employee of a nursing home, and then fatally shot the Kirkersville police chief responding to the scene. Hartless' former girlfriend had recently obtained a court protection order against Hartless. Investigators later found more than 60 firearms in the home of Hartless, who was also found dead at the scene of the attack. |            3 |         0 |               3 | Yes                    | White  | M        |   nan      |     nan     |"
   ]
  }
 ],
 "metadata": {
  "kernelspec": {
   "display_name": "Python 3",
   "language": "python",
   "name": "python3"
  },
  "language_info": {
   "codemirror_mode": {
    "name": "ipython",
    "version": 3
   },
   "file_extension": ".py",
   "mimetype": "text/x-python",
   "name": "python",
   "nbconvert_exporter": "python",
   "pygments_lexer": "ipython3",
   "version": "3.8.3"
  }
 },
 "nbformat": 4,
 "nbformat_minor": 4
}
